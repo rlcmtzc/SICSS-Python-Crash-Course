{
 "cells": [
  {
   "cell_type": "markdown",
   "metadata": {
    "id": "Y2SZiOJLknDc"
   },
   "source": [
    "# Exercise 05: File I/O\n",
    "\n",
    "## Cookbook\n",
    "You want to use a cookbook to calculate amounts for any desired number of servings. For this your have following information:\n",
    "* filename of the recipe (`string`), e.g. `\"bananabread.recipe\"`\n",
    "* name of the desired recipe (`string`), e.g. `\"Bananabread\"`\n",
    "* `servings` -> number of servings (`int`), e.g. 3 <br>  \n",
    "\n",
    "The `.recipe`-file contains the desired recipe. From there, read the instructions and ingredients, calculate the needed amounts given by the servings and save them in a new file.  \n",
    "Such a `.recipe` file could look like this:\n",
    "```\n",
    "Mix everything together and bake for 45min at 180°C.\n",
    "Wheat,180,g\n",
    "Sugar,100,g\n",
    "Cocoa,60,g\n",
    "Salt,1,pinch\n",
    "Baking Powder,1,tsp\n",
    "Chopped Chocolate,170,g\n",
    "Bananas,3,psc\n",
    "```\n",
    "The first line denotes always the instructoins and all following lines contains the ingredients. All ingreadients have the following structure:  \n",
    "`<Name of Ingredient>,<amount>,<unit>`.\n",
    "\n",
    "Now read all Ingredients and multiply the amount by the number of servings. Sace the final new recipe in a new `.txt` file with the same filename as the `.recipe` file (but with `.txt` as suffix).  \n",
    "The file should look like the following:\n",
    "```\n",
    "How to make 3 serving(s) of Bananabread:\n",
    "Wheat: 540g\n",
    "Sugar: 300g\n",
    "Cocoa: 180g\n",
    "Salt: 3pinch\n",
    "Baking Powder: 3tsp\n",
    "Chopped Chocolate: 510g\n",
    "Bananas: 9pcs\n",
    "Oil: 180ml\n",
    "Mix everything together and bake for 45min at 180°C.\n",
    "```"
   ]
  },
  {
   "cell_type": "code",
   "execution_count": 1,
   "metadata": {},
   "outputs": [],
   "source": [
    "# Your code goes here:\n",
    "filename = \"bananabread.recipe\"\n",
    "name = \"Bananabread\"\n",
    "servings = 3\n",
    "\n",
    "with open(filename, \"r\") as f:\n",
    "    recipe = f.readlines()\n",
    "\n",
    "with open(filename.replace(\".recipe\", \".txt\"), \"w\") as f:\n",
    "    f.write(f\"How to make {servings} serving(s) of {name}:\\n\")\n",
    "    for line in recipe[1:]:\n",
    "        ingredient = line.strip().split(\",\")\n",
    "        ingredient[1] = int(ingredient[1]) * servings\n",
    "        f.write(f\"{ingredient[0]}: {ingredient[1]}{ingredient[2]}\\n\")\n",
    "    f.write(recipe[0].strip())"
   ]
  }
 ],
 "metadata": {
  "kernelspec": {
   "display_name": "Python 3.9.7 64-bit",
   "language": "python",
   "name": "python3"
  },
  "language_info": {
   "codemirror_mode": {
    "name": "ipython",
    "version": 3
   },
   "file_extension": ".py",
   "mimetype": "text/x-python",
   "name": "python",
   "nbconvert_exporter": "python",
   "pygments_lexer": "ipython3",
   "version": "3.9.7"
  },
  "vscode": {
   "interpreter": {
    "hash": "e65133fff93ab36b53ddb68612dd6a95a21053ff6cb8524adc7f46061287cbaa"
   }
  }
 },
 "nbformat": 4,
 "nbformat_minor": 4
}
