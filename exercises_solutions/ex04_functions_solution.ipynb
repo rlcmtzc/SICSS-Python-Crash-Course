{
 "cells": [
  {
   "cell_type": "markdown",
   "metadata": {},
   "source": [
    "# Exercise 04: Functions\n",
    "\n",
    "## Basic Function\n",
    "Write a function `my_contact_information` which takes **no** arguments and prints your contact information as follows:\n",
    "\n",
    "```\n",
    "First Name: <Your first name>\n",
    "Last Name: <Your last name>\n",
    "Email: <Your email>\n",
    "```"
   ]
  },
  {
   "cell_type": "code",
   "execution_count": 1,
   "metadata": {},
   "outputs": [
    {
     "name": "stdout",
     "output_type": "stream",
     "text": [
      "First Name: Moritz\n",
      "Last Name: Erlacher\n",
      "Email: moritz.erlacher@student.tugraz.at\n"
     ]
    }
   ],
   "source": [
    "# your code goes here:\n",
    "def my_contact_information():\n",
    "    print(\"First Name: Moritz\\nLast Name: Erlacher\\nEmail: moritz.erlacher@student.tugraz.at\")\n",
    "my_contact_information()"
   ]
  },
  {
   "cell_type": "markdown",
   "metadata": {},
   "source": [
    "## Functions and return\n",
    "Calculate the sum of a list. Write a function which takes a list or a tuple as input. Calculate the sum of the elements in the list/tuple and return the resulting sum.  \n",
    "*Do not use `sum()`*\n",
    "\n",
    "**Example:**  \n",
    "```\n",
    "[1,2,3] -> 6\n",
    "(6, 90, 10, 15, 114, 25, 18, 91, 51) -> 420\n",
    "[63, 100, 48, 79, 4, 85, 26, 84, 16, 73, 58, 78, 87, 198, 321, 17] -> 1337\n",
    "```"
   ]
  },
  {
   "cell_type": "code",
   "execution_count": 3,
   "metadata": {},
   "outputs": [
    {
     "data": {
      "text/plain": [
       "6"
      ]
     },
     "execution_count": 3,
     "metadata": {},
     "output_type": "execute_result"
    }
   ],
   "source": [
    "# Your code goes here.\n",
    "def sum(data):\n",
    "    result = 0\n",
    "    for element in data:\n",
    "        result += element\n",
    "    return result\n",
    "\n",
    "sum([1,2,3])"
   ]
  },
  {
   "cell_type": "markdown",
   "metadata": {},
   "source": [
    "## Functions with keyword arguments\n",
    "Write a function which takes a list or a tuple of numbers and a keyword argumnet `power` which default value is 2. For each number you should calculate the number to the power (given by the keyword argument). Return the new list.\n",
    "\n",
    "**Example: with power=2**  \n",
    "```\n",
    "[1,2,3] -> [1, 4, 9]\n",
    "(6, 90, 10, 15, 114, 25, 18, 91, 51) -> [36, 8100, 100, 225, 12996, 625, 324, 8281, 2601]\n",
    "```\n",
    "**Example: with power=3**  \n",
    "```\n",
    "[63, 100, 48, 79] -> [250047, 1000000, 110592, 493039]\n",
    "```"
   ]
  },
  {
   "cell_type": "code",
   "execution_count": 4,
   "metadata": {},
   "outputs": [
    {
     "data": {
      "text/plain": [
       "[250047, 1000000, 110592, 493039]"
      ]
     },
     "execution_count": 4,
     "metadata": {},
     "output_type": "execute_result"
    }
   ],
   "source": [
    "# Your code goes here.\n",
    "def list_to_power(data, power=2):\n",
    "    return [element**power for element in data]\n",
    "\n",
    "# Alternative without list comprehension:\n",
    "def list_to_power(data, power=2):\n",
    "    result = []\n",
    "    for element in data:\n",
    "        result.append(element**power)\n",
    "    return result\n",
    "\n",
    "list_to_power([63, 100, 48, 79], 3)"
   ]
  }
 ],
 "metadata": {
  "kernelspec": {
   "display_name": "Python 3.9.7 64-bit",
   "language": "python",
   "name": "python3"
  },
  "language_info": {
   "codemirror_mode": {
    "name": "ipython",
    "version": 3
   },
   "file_extension": ".py",
   "mimetype": "text/x-python",
   "name": "python",
   "nbconvert_exporter": "python",
   "pygments_lexer": "ipython3",
   "version": "3.9.7"
  },
  "vscode": {
   "interpreter": {
    "hash": "e65133fff93ab36b53ddb68612dd6a95a21053ff6cb8524adc7f46061287cbaa"
   }
  }
 },
 "nbformat": 4,
 "nbformat_minor": 4
}
