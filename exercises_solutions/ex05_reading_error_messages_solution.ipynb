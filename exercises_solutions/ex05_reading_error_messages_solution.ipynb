{
 "cells": [
  {
   "cell_type": "markdown",
   "metadata": {
    "id": "Y2SZiOJLknDc"
   },
   "source": [
    "# Exercise 05: Fixing Errors\n",
    "Try to understand the examples below and fix all errors that occure with the knowledge you gained in the last few days."
   ]
  },
  {
   "cell_type": "code",
   "execution_count": 3,
   "metadata": {},
   "outputs": [
    {
     "name": "stdout",
     "output_type": "stream",
     "text": [
      "The sum of the random numbers is 1016\n"
     ]
    }
   ],
   "source": [
    "some_random_numbers = [98, 98, 22, 49, 19, 38, 22, 28, 23, 70, 21, 97, 13, 56, 98, 2, 93, 41, 72, 56]\n",
    "    \n",
    "result = 0   \n",
    "for number in some_random_numbers:\n",
    "    result += number\n",
    "    \n",
    "print(f\"The sum of the random numbers is {result}\")\n",
    "\n"
   ]
  },
  {
   "cell_type": "code",
   "execution_count": 5,
   "metadata": {},
   "outputs": [
    {
     "name": "stdout",
     "output_type": "stream",
     "text": [
      "Rolf Rolf\n",
      "Bob Bob\n",
      "Anne Anne\n",
      "Charlie Charlie\n",
      "Jen Jen\n",
      "Jose Jose\n"
     ]
    }
   ],
   "source": [
    "students_and_points = {'Rolf': 24, 'Bob': 18, 'Anne': 42, 'Charlie': 37, 'Jen': 12, 'Jose': 24}\n",
    "for student, points in students_and_points.items():\n",
    "    print(student, student)"
   ]
  },
  {
   "cell_type": "code",
   "execution_count": 7,
   "metadata": {},
   "outputs": [
    {
     "data": {
      "text/plain": [
       "True"
      ]
     },
     "execution_count": 7,
     "metadata": {},
     "output_type": "execute_result"
    }
   ],
   "source": [
    "def is_palindrome(string):\n",
    "    string = \"\".join(string.lower().split())\n",
    "    return string == string[::-1]\n",
    "\n",
    "is_palindrome(\"Anna\")"
   ]
  },
  {
   "cell_type": "code",
   "execution_count": 18,
   "metadata": {},
   "outputs": [],
   "source": [
    "employment_info = {\n",
    "\"Jhon\": {\n",
    "    \"employee_id\": 109231, \n",
    "    \"employment\": \"Carpenter\", \n",
    "    \"Yearly Net Income\": 49520},\n",
    "\"Anna\": {\n",
    "    \"employee_id\": 201201, \n",
    "    \"employment\": \"Graphic Designer\", \n",
    "    \"Yearly Net Income\": 5700},\n",
    "\"Bob\": {\n",
    "    \"employee_id\": 302211, \n",
    "    \"employment\": \"Python Programmer\", \n",
    "    \"Yearly Net Income\": 2147483647},\n",
    "}\n",
    "\n",
    "with open(\"employment_info.csv\", \"w\") as employment_info_file:\n",
    "    employment_info_file.write(\"Name,Employee-ID,Employment,Yearly-Net-Income\\n\")\n",
    "    for name, info in employment_info.items():\n",
    "        employment_info_file.write(f'{name},{info[\"employee_id\"]},{info[\"employment\"]},{info[\"Yearly Net Income\"]}\\n')\n",
    "        "
   ]
  },
  {
   "cell_type": "code",
   "execution_count": 22,
   "metadata": {},
   "outputs": [
    {
     "name": "stdout",
     "output_type": "stream",
     "text": [
      "All employees together have a yearly net income of: 2147538867\n"
     ]
    }
   ],
   "source": [
    "# Fix the example before first since you need the datafile from it ;)\n",
    "with open(\"employment_info.csv\", \"r\") as employment_info:\n",
    "    total_net_income = 0\n",
    "    for line in employment_info.readlines()[1:]: # skip header\n",
    "        total_net_income += int(line.strip().split(\",\")[-1]) # You could also cast it to float\n",
    "    print(f\"All employees together have a yearly net income of: {total_net_income}\")"
   ]
  }
 ],
 "metadata": {
  "kernelspec": {
   "display_name": "Python 3.9.7 64-bit",
   "language": "python",
   "name": "python3"
  },
  "language_info": {
   "codemirror_mode": {
    "name": "ipython",
    "version": 3
   },
   "file_extension": ".py",
   "mimetype": "text/x-python",
   "name": "python",
   "nbconvert_exporter": "python",
   "pygments_lexer": "ipython3",
   "version": "3.9.7"
  },
  "vscode": {
   "interpreter": {
    "hash": "e65133fff93ab36b53ddb68612dd6a95a21053ff6cb8524adc7f46061287cbaa"
   }
  }
 },
 "nbformat": 4,
 "nbformat_minor": 4
}
