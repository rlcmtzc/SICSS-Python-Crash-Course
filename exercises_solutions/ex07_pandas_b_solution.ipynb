{
 "cells": [
  {
   "cell_type": "markdown",
   "metadata": {},
   "source": [
    "# Exercise 07: Pandas B\n",
    "Today's exercise continues on working with pandas DataFrames. If you prefer the [video tutorials](https://www.youtube.com/playlist?list=PL-osiE80TeTsWmV9i9c58mdDCSskIFdDS), parts 7 to 11 cover the skills needed (and quite a bit more!). Alternatively, check out the [Getting started tutorials](https://pandas.pydata.org/docs/getting_started/intro_tutorials/index.html) or follow the \"Help\"-links to relevant Google searches ;)\n",
    "\n",
    "The required tables are the same as in Exercise 06, so you can just copy the code for reading them from there."
   ]
  },
  {
   "cell_type": "code",
   "execution_count": null,
   "metadata": {},
   "outputs": [],
   "source": [
    "# your code goes here:\n",
    "import pandas as pd\n",
    "vaccinations = pd.read_csv(\"./data/vaccinations.csv\", parse_dates=[\"date\"])\n",
    "cases_deaths = pd.read_csv(\"./data/cases_deaths.csv\", parse_dates=[\"date\"])\n",
    "locations = pd.read_csv(\"./data/locations.csv\")"
   ]
  },
  {
   "cell_type": "markdown",
   "metadata": {},
   "source": [
    "For each location, get the total number of cases (i.e. the sum of the daily new cases).\n",
    "\n",
    "[Help](https://www.google.com/search?q=pandas+sum+column+by+group)"
   ]
  },
  {
   "cell_type": "code",
   "execution_count": null,
   "metadata": {},
   "outputs": [
    {
     "data": {
      "text/html": [
       "<div>\n",
       "<style scoped>\n",
       "    .dataframe tbody tr th:only-of-type {\n",
       "        vertical-align: middle;\n",
       "    }\n",
       "\n",
       "    .dataframe tbody tr th {\n",
       "        vertical-align: top;\n",
       "    }\n",
       "\n",
       "    .dataframe thead th {\n",
       "        text-align: right;\n",
       "    }\n",
       "</style>\n",
       "<table border=\"1\" class=\"dataframe\">\n",
       "  <thead>\n",
       "    <tr style=\"text-align: right;\">\n",
       "      <th></th>\n",
       "      <th>total_cases</th>\n",
       "    </tr>\n",
       "    <tr>\n",
       "      <th>location</th>\n",
       "      <th></th>\n",
       "    </tr>\n",
       "  </thead>\n",
       "  <tbody>\n",
       "    <tr>\n",
       "      <th>Afghanistan</th>\n",
       "      <td>180355.0</td>\n",
       "    </tr>\n",
       "    <tr>\n",
       "      <th>Africa</th>\n",
       "      <td>11867790.0</td>\n",
       "    </tr>\n",
       "    <tr>\n",
       "      <th>Albania</th>\n",
       "      <td>276101.0</td>\n",
       "    </tr>\n",
       "    <tr>\n",
       "      <th>Algeria</th>\n",
       "      <td>265884.0</td>\n",
       "    </tr>\n",
       "    <tr>\n",
       "      <th>Andorra</th>\n",
       "      <td>42894.0</td>\n",
       "    </tr>\n",
       "    <tr>\n",
       "      <th>...</th>\n",
       "      <td>...</td>\n",
       "    </tr>\n",
       "    <tr>\n",
       "      <th>Wallis and Futuna</th>\n",
       "      <td>454.0</td>\n",
       "    </tr>\n",
       "    <tr>\n",
       "      <th>World</th>\n",
       "      <td>528911736.0</td>\n",
       "    </tr>\n",
       "    <tr>\n",
       "      <th>Yemen</th>\n",
       "      <td>11823.0</td>\n",
       "    </tr>\n",
       "    <tr>\n",
       "      <th>Zambia</th>\n",
       "      <td>321779.0</td>\n",
       "    </tr>\n",
       "    <tr>\n",
       "      <th>Zimbabwe</th>\n",
       "      <td>252404.0</td>\n",
       "    </tr>\n",
       "  </tbody>\n",
       "</table>\n",
       "<p>229 rows × 1 columns</p>\n",
       "</div>"
      ],
      "text/plain": [
       "                   total_cases\n",
       "location                      \n",
       "Afghanistan           180355.0\n",
       "Africa              11867790.0\n",
       "Albania               276101.0\n",
       "Algeria               265884.0\n",
       "Andorra                42894.0\n",
       "...                        ...\n",
       "Wallis and Futuna        454.0\n",
       "World              528911736.0\n",
       "Yemen                  11823.0\n",
       "Zambia                321779.0\n",
       "Zimbabwe              252404.0\n",
       "\n",
       "[229 rows x 1 columns]"
      ]
     },
     "metadata": {},
     "output_type": "display_data"
    }
   ],
   "source": [
    "# your code goes here:\n",
    "total_cases = cases_deaths.groupby('location').agg(total_cases=('new_cases', sum))\n",
    "total_cases = cases_deaths.groupby('location')[\"new_cases\"].sum()\n",
    "total_cases"
   ]
  },
  {
   "cell_type": "markdown",
   "metadata": {},
   "source": [
    "Calculate the total number of cases per millions inhabitants for all locations.\n",
    "\n",
    "[Help1](https://www.google.com/search?q=pandas+merge+dataframe), [Help2](https://www.google.com/search?q=pandas+divide+two+columns)"
   ]
  },
  {
   "cell_type": "code",
   "execution_count": null,
   "metadata": {},
   "outputs": [],
   "source": [
    "\n",
    "# your code goes here:\n",
    "df = total_cases.merge(locations, left_index=True, right_on='location')\n",
    "df['cases_per_million'] = df['total_cases'] / df['population'] * 1000000\n",
    "df"
   ]
  },
  {
   "cell_type": "markdown",
   "metadata": {},
   "source": [
    "Now sort the resulting dataframe descending by cases per million.\n",
    "\n",
    "[Help](https://www.google.com/search?q=pandas+sort+descending)"
   ]
  },
  {
   "cell_type": "code",
   "execution_count": null,
   "metadata": {},
   "outputs": [],
   "source": [
    "# your code goes here:\n",
    "df = df.sort_values('cases_per_million', ascending=False)"
   ]
  },
  {
   "cell_type": "markdown",
   "metadata": {},
   "source": [
    "Write the dataframe to a csv file, but include only location and cases_per_million.\n",
    "\n",
    "[Help1](https://www.google.com/search?q=pandas+write+csv), [Help2](https://www.google.com/search?q=pandas+write+csv+ignore+index)"
   ]
  },
  {
   "cell_type": "code",
   "execution_count": null,
   "metadata": {},
   "outputs": [],
   "source": [
    "# your code goes here:\n",
    "df[['location', 'cases_per_million']].to_csv('cpm.csv', index=False)"
   ]
  },
  {
   "cell_type": "markdown",
   "metadata": {},
   "source": [
    "Get the number of new vaccinations per continent in November 2021."
   ]
  },
  {
   "cell_type": "code",
   "execution_count": null,
   "metadata": {},
   "outputs": [
    {
     "data": {
      "text/html": [
       "<div>\n",
       "<style scoped>\n",
       "    .dataframe tbody tr th:only-of-type {\n",
       "        vertical-align: middle;\n",
       "    }\n",
       "\n",
       "    .dataframe tbody tr th {\n",
       "        vertical-align: top;\n",
       "    }\n",
       "\n",
       "    .dataframe thead th {\n",
       "        text-align: right;\n",
       "    }\n",
       "</style>\n",
       "<table border=\"1\" class=\"dataframe\">\n",
       "  <thead>\n",
       "    <tr style=\"text-align: right;\">\n",
       "      <th></th>\n",
       "      <th>all_vaccs</th>\n",
       "    </tr>\n",
       "    <tr>\n",
       "      <th>continent</th>\n",
       "      <th></th>\n",
       "    </tr>\n",
       "  </thead>\n",
       "  <tbody>\n",
       "    <tr>\n",
       "      <th>Africa</th>\n",
       "      <td>49661203.0</td>\n",
       "    </tr>\n",
       "    <tr>\n",
       "      <th>Asia</th>\n",
       "      <td>652129741.0</td>\n",
       "    </tr>\n",
       "    <tr>\n",
       "      <th>Europe</th>\n",
       "      <td>91966100.0</td>\n",
       "    </tr>\n",
       "    <tr>\n",
       "      <th>North America</th>\n",
       "      <td>67906416.0</td>\n",
       "    </tr>\n",
       "    <tr>\n",
       "      <th>Oceania</th>\n",
       "      <td>5061740.0</td>\n",
       "    </tr>\n",
       "    <tr>\n",
       "      <th>South America</th>\n",
       "      <td>68982646.0</td>\n",
       "    </tr>\n",
       "  </tbody>\n",
       "</table>\n",
       "</div>"
      ],
      "text/plain": [
       "                 all_vaccs\n",
       "continent                 \n",
       "Africa          49661203.0\n",
       "Asia           652129741.0\n",
       "Europe          91966100.0\n",
       "North America   67906416.0\n",
       "Oceania          5061740.0\n",
       "South America   68982646.0"
      ]
     },
     "metadata": {},
     "output_type": "display_data"
    }
   ],
   "source": [
    "# your code goes here:\n",
    "vacc_cont = vaccinations.merge(locations, on='location')\n",
    "vacc_nov = vacc_cont.loc[(\"2021-11-01\" <= vacc_cont[\"date\"]) & (vacc_cont[\"date\"] <= \"2021-11-30\"), :]\n",
    "vacc_nov.groupby(\"continent\").agg(all_vaccs=(\"daily_vaccinations\", sum))"
   ]
  }
 ],
 "metadata": {
  "language_info": {
   "name": "python"
  },
  "orig_nbformat": 4
 },
 "nbformat": 4,
 "nbformat_minor": 2
}
