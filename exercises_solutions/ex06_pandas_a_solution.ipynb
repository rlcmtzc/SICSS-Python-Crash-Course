{
 "cells": [
  {
   "cell_type": "markdown",
   "metadata": {},
   "source": [
    "## Import\n",
    "\n",
    "Before we start with todays exercice, let us talk a little bit about **modules** and what they represent. Imagine you are working on a script which includes a variety of functions to solve common tasks, for instance: functions to perform mathematical matrix operations or functions to visualise huge amounts of data. Wouldn't it be convenient if we could use those functions in another python-script? Well....since we are too lazy to rewrite everything.... Yeah, it would!\n",
    "\n",
    "Modules - it's your time to shine🌞<br>\n",
    "Modules are nothing more than <ins>.py-files</ins> consisting of different kinds of components, i.e. functions, which can be made available in any other python-script using the `import`-statement. And yes, you can import your own python-scripts as well! Besides that, Python comes with a extensive amount of modules, known as <ins>Standard-Library</ins>. You can also include 3rd-party packages (numpy, pandas, scipy, matplotlib,...) but you will have to install them first. \n",
    "\n",
    "To keep the <ins>namespace</ins> clean (and your brain sane), lets have a look on how to use `import`.\n",
    "### How to `import` everything from a module\n",
    "\n",
    "**Python-Syntax:** \n",
    "```python\n",
    "import module_name\n",
    "```\n",
    "\n",
    "It doesn't get easier than that - after the import-statement follows the name of the module. Now you can use all functions from the `pandas` module by prefixing their name with their <ins>namespace</ins> `pandas.` Usually, all import-statements are found at the top of the script to keep the code tidy and clear.\n",
    "\n"
   ]
  },
  {
   "cell_type": "markdown",
   "metadata": {},
   "source": [
    "### How to `import` specific contents `from` a module\n",
    "\n",
    "**Python-Syntax:**\n",
    "```python\n",
    "from module_name import content_name1, content_name2, etc\n",
    "``` \n",
    "\n",
    "Instead of importing everything of a module, we can extract specific contents, i.e. only functions we really need. This allows us, to use functions without the namespace-prefix. Keep in mind, that multiple contents are separated with commas (`,`)."
   ]
  },
  {
   "cell_type": "markdown",
   "metadata": {},
   "source": [
    "**Pitfall:**\n",
    "```python\n",
    "from statistics import mean\n",
    "from numpy import mean\n",
    "```\n",
    "Always keep an eye on which elements you are importing from different modules. In our case, there are two imported functions with the same name (name-collision). Therefore python always uses the last imported function with that name - in our case, the mean-function of the numpy module. <ins>The last import always wins!</ins>\n",
    "\n"
   ]
  },
  {
   "cell_type": "markdown",
   "metadata": {},
   "source": [
    "### How to `import` a module `as` you like\n",
    "\n",
    "**Python-Syntax:** \n",
    "```python\n",
    "import module_name as new_module_name_in_namespace\n",
    "from module_name import component as new_component_name_in_namespace\n",
    "```\n",
    "\n",
    "Modules and packages can be renamed on import to keep code more succinct. Most widely-used packages have an established abbreviation. Stick to it to make your code readable for others! For example pandas established abbrevation is `pd` so you would import it as:\n",
    "```python\n",
    "import pandas as pd\n",
    "```"
   ]
  },
  {
   "cell_type": "markdown",
   "metadata": {},
   "source": [
    "# Exercise 06: Pandas A\n",
    "\n",
    "[Pandas](https://pandas.pydata.org/docs/ ) is a Python package which provides data structures for working with tabular, labeled data (i.e. data in a table with rows and columns). It is a good tool for real-world data analysis in Python. In Google Colab, pandas is already installed. If you work locally, install it by executing `python -m pip install pandas` in a terminal.\n",
    "\n",
    "[Here](https://www.youtube.com/playlist?list=PL-osiE80TeTsWmV9i9c58mdDCSskIFdDS) is an extensive playlist covering all basic pandas operations. The skills required for this exercise are covered in Parts 1 to 6. Feel free to skip around, as the videos cover lots of details :)\n",
    "\n",
    "If you prefer a text-based tutorial, take a look at the [Getting started](https://pandas.pydata.org/docs/getting_started/intro_tutorials/index.html) section of the pandas documentation. \n",
    "\n",
    "You can also just go ahead and try to solve the tasks without any tutorial - each time something new is required, a link to a Google Search is provided. Since programming usually requires lots and lots of googling and reading documentation or Stack Overflow, this might give you an idea of what to google and which sites are helpful ;)\n",
    "\n",
    "This exercise uses COVID-19 data from [Our World in Data](https://ourworldindata.org/). The cell below extracts part of that data from the source on [GitHub](https://github.com/owid/covid-19-data/) and stores it in .csv files in a directory \"data\" next to this notebook. Execute it to get the most recent data and have a look at the .csv files!\n"
   ]
  },
  {
   "cell_type": "code",
   "execution_count": 3,
   "metadata": {},
   "outputs": [],
   "source": [
    "from pathlib import Path\n",
    "\n",
    "import pandas as pd\n",
    "\n",
    "data_dir = Path(\"./data\")\n",
    "data_dir.mkdir(parents=True, exist_ok=True)\n",
    "vaccinations_raw = pd.read_csv(\"https://github.com/owid/covid-19-data/raw/master/public/data/vaccinations/vaccinations.csv\")\n",
    "vaccinations_raw[['location', 'date', 'daily_vaccinations', 'people_fully_vaccinated']].to_csv(data_dir / \"vaccinations.csv\", index=False)\n",
    "cases_deaths_raw = pd.read_csv(\"https://github.com/owid/covid-19-data/raw/master/public/data/jhu/full_data.csv\")\n",
    "cases_deaths_raw[['location', 'date', 'new_cases', 'new_deaths']].to_csv(data_dir / \"cases_deaths.csv\", index=False)\n",
    "locations_raw = pd.read_csv(\"https://github.com/owid/covid-19-data/raw/master/public/data/jhu/locations.csv\")\n",
    "locations_raw[['location', 'continent', 'population']].dropna().to_csv(data_dir / \"locations.csv\", index=False)"
   ]
  },
  {
   "cell_type": "markdown",
   "metadata": {},
   "source": [
    "Read the three .csv-files. Make sure to parse the \"date\" columns to a datetime type (check by viewing the `.dtypes` attribute).\n",
    "\n",
    "[Help!](https://www.google.com/search?q=pandas+read+csv)  \n",
    "[Help with dates!](https://www.google.com/search?q=pandas+csv+parse+date)"
   ]
  },
  {
   "cell_type": "code",
   "execution_count": 122,
   "metadata": {},
   "outputs": [],
   "source": [
    "# your code goes here:\n",
    "vaccinations = pd.read_csv(\"./data/vaccinations.csv\", parse_dates=[\"date\"])\n",
    "cases_deaths = pd.read_csv(\"./data/cases_deaths.csv\", parse_dates=[\"date\"])\n",
    "locations = pd.read_csv(\"./data/locations.csv\")"
   ]
  },
  {
   "cell_type": "markdown",
   "metadata": {},
   "source": [
    "Access the rows containing the most recent vaccination data for Austria.\n",
    "\n",
    "[Help1](https://www.google.com/search?q=pandas+last+rows), [Help2](https://www.google.com/search?q=pandas+filter+rows)"
   ]
  },
  {
   "cell_type": "code",
   "execution_count": 8,
   "metadata": {},
   "outputs": [
    {
     "data": {
      "text/html": [
       "<div>\n",
       "<style scoped>\n",
       "    .dataframe tbody tr th:only-of-type {\n",
       "        vertical-align: middle;\n",
       "    }\n",
       "\n",
       "    .dataframe tbody tr th {\n",
       "        vertical-align: top;\n",
       "    }\n",
       "\n",
       "    .dataframe thead th {\n",
       "        text-align: right;\n",
       "    }\n",
       "</style>\n",
       "<table border=\"1\" class=\"dataframe\">\n",
       "  <thead>\n",
       "    <tr style=\"text-align: right;\">\n",
       "      <th></th>\n",
       "      <th>location</th>\n",
       "      <th>date</th>\n",
       "      <th>daily_vaccinations</th>\n",
       "      <th>people_fully_vaccinated</th>\n",
       "    </tr>\n",
       "  </thead>\n",
       "  <tbody>\n",
       "    <tr>\n",
       "      <th>6531</th>\n",
       "      <td>Austria</td>\n",
       "      <td>2022-05-16</td>\n",
       "      <td>2668.0</td>\n",
       "      <td>NaN</td>\n",
       "    </tr>\n",
       "    <tr>\n",
       "      <th>6532</th>\n",
       "      <td>Austria</td>\n",
       "      <td>2022-05-17</td>\n",
       "      <td>2376.0</td>\n",
       "      <td>NaN</td>\n",
       "    </tr>\n",
       "    <tr>\n",
       "      <th>6533</th>\n",
       "      <td>Austria</td>\n",
       "      <td>2022-05-18</td>\n",
       "      <td>2084.0</td>\n",
       "      <td>NaN</td>\n",
       "    </tr>\n",
       "    <tr>\n",
       "      <th>6534</th>\n",
       "      <td>Austria</td>\n",
       "      <td>2022-05-19</td>\n",
       "      <td>1792.0</td>\n",
       "      <td>NaN</td>\n",
       "    </tr>\n",
       "    <tr>\n",
       "      <th>6535</th>\n",
       "      <td>Austria</td>\n",
       "      <td>2022-05-20</td>\n",
       "      <td>1500.0</td>\n",
       "      <td>6616365.0</td>\n",
       "    </tr>\n",
       "  </tbody>\n",
       "</table>\n",
       "</div>"
      ],
      "text/plain": [
       "     location       date  daily_vaccinations  people_fully_vaccinated\n",
       "6531  Austria 2022-05-16              2668.0                      NaN\n",
       "6532  Austria 2022-05-17              2376.0                      NaN\n",
       "6533  Austria 2022-05-18              2084.0                      NaN\n",
       "6534  Austria 2022-05-19              1792.0                      NaN\n",
       "6535  Austria 2022-05-20              1500.0                6616365.0"
      ]
     },
     "execution_count": 8,
     "metadata": {},
     "output_type": "execute_result"
    }
   ],
   "source": [
    "# your code goes here:\n",
    "vaccinations.loc[vaccinations[\"location\"] == \"Austria\", ].tail()"
   ]
  },
  {
   "cell_type": "markdown",
   "metadata": {},
   "source": [
    "Create a new dataframe which contains dates, locations, and new cases - but no information about deaths.\n",
    "\n",
    "[Help](https://www.google.com/search?q=pandas+remove+column) ([alternative](https://www.google.com/search?q=pandas+select+columns))"
   ]
  },
  {
   "cell_type": "code",
   "execution_count": null,
   "metadata": {},
   "outputs": [],
   "source": [
    "# your code goes here:\n",
    "cases = cases_deaths.drop(columns='new_deaths')\n",
    "cases = cases_deaths.loc[:, ['date', 'location', 'new_cases']]\n",
    "cases"
   ]
  },
  {
   "cell_type": "markdown",
   "metadata": {},
   "source": [
    "Get the names of all locations starting with an \"E\"!\n",
    "\n",
    "[Help](https://www.google.com/search?q=pandas+string+starts+with) ([alternative](https://www.google.com/search?q=pandas+string+slice))\n"
   ]
  },
  {
   "cell_type": "code",
   "execution_count": null,
   "metadata": {},
   "outputs": [],
   "source": [
    "# your code goes here:\n",
    "locations.loc[locations['location'].str.startswith('E'), 'location']"
   ]
  },
  {
   "cell_type": "markdown",
   "metadata": {},
   "source": [
    "For each letter in the alphabet, print how many location names start with that letter.\n",
    "\n",
    "[Help](https://www.google.com/search?q=python+loop+over+alphabet)"
   ]
  },
  {
   "cell_type": "code",
   "execution_count": null,
   "metadata": {},
   "outputs": [],
   "source": [
    "# your code goes here:\n",
    "for letter in 'ABCDEFGHIJKLMNOPQRSTUVWXYZ':\n",
    "    print(letter, locations['location'].str.startswith(letter).sum())"
   ]
  },
  {
   "cell_type": "markdown",
   "metadata": {},
   "source": [
    "Get the names of all locations with a population above 200,000,000.\n",
    "\n",
    "[Help](https://www.google.com/search?q=pandas+select+larger+than)"
   ]
  },
  {
   "cell_type": "code",
   "execution_count": null,
   "metadata": {},
   "outputs": [],
   "source": [
    "# your code goes here:\n",
    "locations.loc[locations['population'] > 200_000_000, 'location']"
   ]
  },
  {
   "cell_type": "markdown",
   "metadata": {},
   "source": [
    "Get the names of all locations with a population between 7,000,000 and 9,000,000.\n",
    "\n",
    "[Help](https://www.google.com/search?q=pandas+select+between)"
   ]
  },
  {
   "cell_type": "code",
   "execution_count": null,
   "metadata": {},
   "outputs": [],
   "source": [
    "# your code goes here:\n",
    "locations.loc[(7_000_000 < locations['population']) & (locations['population'] < 9_000_000), 'location']"
   ]
  },
  {
   "cell_type": "markdown",
   "metadata": {},
   "source": [
    "Vaccinations, cases, and deaths are reported not only for individual countries, but also for groups of countries (e.g. continents). Create a new column named \"is_country\" in each of the dataframes based on whether the location is present in `locations.csv`\n",
    "\n",
    "[Help](https://www.google.com/search?q=pandas+select+if+in+list)"
   ]
  },
  {
   "cell_type": "code",
   "execution_count": null,
   "metadata": {},
   "outputs": [],
   "source": [
    "# your code goes here:\n",
    "for df in (cases, cases_deaths, vaccinations):\n",
    "    df[\"is_country\"] = df[\"location\"].isin(locations[\"location\"])"
   ]
  },
  {
   "cell_type": "markdown",
   "metadata": {},
   "source": [
    "Get the _country_ with the highest number of vaccinations in a single day - continents and other country groups don't count!\n",
    "\n",
    "[Help](https://www.google.com/search?q=pandas+row+with+max+value+in+column)"
   ]
  },
  {
   "cell_type": "code",
   "execution_count": null,
   "metadata": {},
   "outputs": [],
   "source": [
    "# your code goes here:\n",
    "vaccinations.loc[vaccinations[vaccinations['is_country']]['daily_vaccinations'].idxmax()]"
   ]
  },
  {
   "cell_type": "markdown",
   "metadata": {},
   "source": [
    "Get the 10 least-populated locations.\n",
    "\n",
    "[Help](https://www.google.com/search?q=pandas+smallest+rows)"
   ]
  },
  {
   "cell_type": "code",
   "execution_count": null,
   "metadata": {},
   "outputs": [],
   "source": [
    "# your code goes here:\n",
    "locations.nsmallest(10, 'population')"
   ]
  },
  {
   "cell_type": "markdown",
   "metadata": {},
   "source": [
    "Find the unique continent names contained in the locations file.\n",
    "\n",
    "[Help](https://www.google.com/search?q=pandas+find+unique+values)"
   ]
  },
  {
   "cell_type": "code",
   "execution_count": 130,
   "metadata": {},
   "outputs": [
    {
     "data": {
      "text/plain": [
       "array(['Asia', 'Europe', 'Africa', 'North America', 'South America',\n",
       "       'Oceania'], dtype=object)"
      ]
     },
     "execution_count": 130,
     "metadata": {},
     "output_type": "execute_result"
    }
   ],
   "source": [
    "# your code goes here:\n",
    "locations[\"continent\"].unique()"
   ]
  },
  {
   "cell_type": "markdown",
   "metadata": {},
   "source": [
    "Count the number of locations associated with each continent.\n",
    "\n",
    "[Help](https://www.google.com/search?q=pandas+count+values)"
   ]
  },
  {
   "cell_type": "code",
   "execution_count": 109,
   "metadata": {},
   "outputs": [
    {
     "data": {
      "text/plain": [
       "Africa           55\n",
       "Asia             49\n",
       "Europe           49\n",
       "North America    34\n",
       "Oceania          16\n",
       "South America    13\n",
       "Name: continent, dtype: int64"
      ]
     },
     "execution_count": 109,
     "metadata": {},
     "output_type": "execute_result"
    }
   ],
   "source": [
    "# your code goes here:\n",
    "locations[\"continent\"].value_counts()"
   ]
  }
 ],
 "metadata": {
  "kernelspec": {
   "display_name": "CSS kernel",
   "language": "python",
   "name": "css"
  },
  "language_info": {
   "codemirror_mode": {
    "name": "ipython",
    "version": 3
   },
   "file_extension": ".py",
   "mimetype": "text/x-python",
   "name": "python",
   "nbconvert_exporter": "python",
   "pygments_lexer": "ipython3",
   "version": "3.10.0"
  },
  "orig_nbformat": 4
 },
 "nbformat": 4,
 "nbformat_minor": 2
}
